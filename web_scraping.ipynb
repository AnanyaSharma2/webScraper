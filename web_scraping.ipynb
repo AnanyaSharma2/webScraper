{
  "nbformat": 4,
  "nbformat_minor": 0,
  "metadata": {
    "colab": {
      "provenance": [],
      "authorship_tag": "ABX9TyPkZaBhpREv2rOOvUgxWtu5",
      "include_colab_link": true
    },
    "kernelspec": {
      "name": "python3",
      "display_name": "Python 3"
    },
    "language_info": {
      "name": "python"
    }
  },
  "cells": [
    {
      "cell_type": "markdown",
      "metadata": {
        "id": "view-in-github",
        "colab_type": "text"
      },
      "source": [
        "<a href=\"https://colab.research.google.com/github/AnanyaSharma2/webScraper/blob/main/web_scraping.ipynb\" target=\"_parent\"><img src=\"https://colab.research.google.com/assets/colab-badge.svg\" alt=\"Open In Colab\"/></a>"
      ]
    },
    {
      "cell_type": "markdown",
      "source": [
        "# **Project Title**:\n",
        " QuoteScraper: Extracting Insights from \"quotes.toscrape.com\"\n",
        "\n",
        "**Project Description: **\n",
        "\n",
        "This project aimed to leverage web scraping techniques to extract valuable information from the \"quotes.toscrape.com\" website.\n",
        "Data Extracted:\n",
        "\n",
        "The project successfully extracted the following data from each quote page:\n",
        "**bold text**\n",
        "\n",
        "\n",
        "*  *Quote*: The actual text of the inspirational quote.\n",
        "*  *Author Name*: The name of the person who said the quote.\n",
        "\n",
        "\n",
        "*  *Author Bio Link*: A link to a web page with more information about the author\n",
        "*   *Tags*: Keywords associated with the quote's meaning or theme\n",
        "Data Storage and Use:\n",
        "\n",
        "\n",
        "\n",
        ">The extracted data was stored in a structured format (e.g., a CSV file ) for further analysis and potential applications.\n",
        "\n",
        "\n",
        "\n"
      ],
      "metadata": {
        "id": "PFcqUkhsheCr"
      }
    },
    {
      "cell_type": "code",
      "source": [
        "import requests\n",
        "from bs4 import BeautifulSoup\n",
        "import pandas as pd"
      ],
      "metadata": {
        "id": "0x53uVW7U5k7"
      },
      "execution_count": null,
      "outputs": []
    },
    {
      "cell_type": "code",
      "source": [
        "link= 'https://quotes.toscrape.com/'"
      ],
      "metadata": {
        "id": "SR56OI-cXUYv"
      },
      "execution_count": null,
      "outputs": []
    },
    {
      "cell_type": "code",
      "source": [
        "res = requests.get(link)"
      ],
      "metadata": {
        "id": "eyuJyin_XXT_"
      },
      "execution_count": null,
      "outputs": []
    },
    {
      "cell_type": "code",
      "source": [
        "print(res.text)  # print html page of the site"
      ],
      "metadata": {
        "id": "yUUFZD1BVDjM"
      },
      "execution_count": null,
      "outputs": []
    },
    {
      "cell_type": "code",
      "source": [
        "# to save the page in offline mode\n",
        "html =res.text\n",
        "fd=open('main.html','w')\n",
        "fd.write(html)\n",
        "fd.close()"
      ],
      "metadata": {
        "id": "WyA-4uxBV5w8"
      },
      "execution_count": null,
      "outputs": []
    },
    {
      "cell_type": "code",
      "source": [
        "soup = BeautifulSoup(res.text,'html.parser')"
      ],
      "metadata": {
        "id": "OEWa5LwtWDzL"
      },
      "execution_count": null,
      "outputs": []
    },
    {
      "cell_type": "code",
      "source": [
        "print(soup)"
      ],
      "metadata": {
        "id": "2QhtPoKyYCBf"
      },
      "execution_count": null,
      "outputs": []
    },
    {
      "cell_type": "code",
      "source": [
        "# printing the first quote store inside the span tag and text class\n",
        "print(soup.find('span',class_ ='text').text[1:-1])"
      ],
      "metadata": {
        "colab": {
          "base_uri": "https://localhost:8080/"
        },
        "id": "9PfDRG1-YExO",
        "outputId": "25d7c4dd-22cc-4ca3-a783-ccf940abd32e"
      },
      "execution_count": null,
      "outputs": [
        {
          "output_type": "stream",
          "name": "stdout",
          "text": [
            "The world as we have created it is a process of our thinking. It cannot be changed without changing our thinking.\n"
          ]
        }
      ]
    },
    {
      "cell_type": "code",
      "source": [
        "#printing all the quotes present in a single page\n",
        "for quotes in soup.find_all('span',class_ ='text'):\n",
        "  print(quotes)"
      ],
      "metadata": {
        "id": "dCgDToXfYY_y"
      },
      "execution_count": null,
      "outputs": []
    },
    {
      "cell_type": "code",
      "source": [
        "for quotes in soup.find_all('span',class_ ='text'):\n",
        "  print(quotes.text ,end ='\\n\\n')"
      ],
      "metadata": {
        "id": "epkZ3ty5YwKp"
      },
      "execution_count": null,
      "outputs": []
    },
    {
      "cell_type": "code",
      "source": [
        "#removing \"\" from starting and end position\n",
        "for quotes in soup.find_all('span',class_ ='text'):\n",
        "  print(quotes.text[1:-1] ,end ='\\n\\n')"
      ],
      "metadata": {
        "id": "rYirKAKwZEI7"
      },
      "execution_count": null,
      "outputs": []
    },
    {
      "cell_type": "markdown",
      "source": [
        "Now printing the author of a single quote"
      ],
      "metadata": {
        "id": "ss4L4bBcafyU"
      }
    },
    {
      "cell_type": "code",
      "source": [
        "author = soup.find_all('div',class_='quote')"
      ],
      "metadata": {
        "id": "ESL18y5BZaJx"
      },
      "execution_count": null,
      "outputs": []
    },
    {
      "cell_type": "code",
      "source": [
        "for sp in soup.find_all('div',class_='quote'):\n",
        "  print(sp)\n",
        "  print()"
      ],
      "metadata": {
        "id": "f4COG_OBbDPz"
      },
      "execution_count": null,
      "outputs": []
    },
    {
      "cell_type": "code",
      "source": [
        "sp"
      ],
      "metadata": {
        "id": "UaGC7Nr1bTt-"
      },
      "execution_count": null,
      "outputs": []
    },
    {
      "cell_type": "code",
      "source": [
        "# printing quote\n",
        "quote = sp.find('span',class_='text').text[1:-1]\n",
        "quote"
      ],
      "metadata": {
        "colab": {
          "base_uri": "https://localhost:8080/",
          "height": 35
        },
        "id": "IB16GfNBbZ78",
        "outputId": "b8b2221f-4f09-4a40-ddaa-9e08455e3815"
      },
      "execution_count": null,
      "outputs": [
        {
          "output_type": "execute_result",
          "data": {
            "text/plain": [
              "'A day without sunshine is like, you know, night.'"
            ],
            "application/vnd.google.colaboratory.intrinsic+json": {
              "type": "string"
            }
          },
          "metadata": {},
          "execution_count": 43
        }
      ]
    },
    {
      "cell_type": "code",
      "source": [
        "#printing author of quote\n",
        "sp.find('small').text"
      ],
      "metadata": {
        "colab": {
          "base_uri": "https://localhost:8080/",
          "height": 35
        },
        "id": "fgyVjzrbbumG",
        "outputId": "56a23aac-2a15-4a35-f316-cfc71e19798f"
      },
      "execution_count": null,
      "outputs": [
        {
          "output_type": "execute_result",
          "data": {
            "text/plain": [
              "'Steve Martin'"
            ],
            "application/vnd.google.colaboratory.intrinsic+json": {
              "type": "string"
            }
          },
          "metadata": {},
          "execution_count": 20
        }
      ]
    },
    {
      "cell_type": "code",
      "source": [
        "# to print the link of the author\n",
        "author_id=sp.find('a').get('href')"
      ],
      "metadata": {
        "id": "AdA4yJxZb3B7"
      },
      "execution_count": null,
      "outputs": []
    },
    {
      "cell_type": "code",
      "source": [
        "# printing all the tags\n",
        "tag = []\n",
        "for tags in sp.find_all('a',class_='tag'):\n",
        "   tag.append(tags.text)\n",
        "tag"
      ],
      "metadata": {
        "colab": {
          "base_uri": "https://localhost:8080/"
        },
        "id": "eLN_eMTVcQg4",
        "outputId": "cb16361d-82b6-4ea1-dcd4-f656e1ea9e8f"
      },
      "execution_count": null,
      "outputs": [
        {
          "output_type": "execute_result",
          "data": {
            "text/plain": [
              "['humor', 'obvious', 'simile']"
            ]
          },
          "metadata": {},
          "execution_count": 22
        }
      ]
    },
    {
      "cell_type": "code",
      "source": [
        "','.join(tag)"
      ],
      "metadata": {
        "colab": {
          "base_uri": "https://localhost:8080/",
          "height": 35
        },
        "id": "ZhSPN4pOcece",
        "outputId": "6b3c1f3e-546e-4846-a791-8e333ffcf99b"
      },
      "execution_count": null,
      "outputs": [
        {
          "output_type": "execute_result",
          "data": {
            "text/plain": [
              "'humor,obvious,simile'"
            ],
            "application/vnd.google.colaboratory.intrinsic+json": {
              "type": "string"
            }
          },
          "metadata": {},
          "execution_count": 23
        }
      ]
    },
    {
      "cell_type": "markdown",
      "source": [
        "# **Printing all the quotes,author,author_id,tags present in a single page**"
      ],
      "metadata": {
        "id": "aBF0KgoHiwRJ"
      }
    },
    {
      "cell_type": "code",
      "source": [
        "for sp in soup.find_all('div',class_='quote'):\n",
        "  quote = sp.find('span',class_='text').text[1:-1]\n",
        "  author = sp.find('small',class_='author').text\n",
        "  author_id = sp.find('a').get('href')\n",
        "  tag = []\n",
        "  for tags in sp.find_all('a',class_='tag'):\n",
        "   tag.append(tags.text)\n",
        "  tag = ','.join(tag)\n",
        "  print(quote,author,author_id,tag ,sep ='\\n' )\n",
        "  print('*'*50)"
      ],
      "metadata": {
        "id": "yxAQ8XMJdCM0"
      },
      "execution_count": null,
      "outputs": []
    },
    {
      "cell_type": "code",
      "source": [
        "# saving the entire data in form of a list\n",
        "data =[]\n",
        "for sp in soup.find_all('div',class_='quote'):\n",
        "  quote = sp.find('span',class_='text').text[1:-1]\n",
        "  author = sp.find('small',class_='author').text\n",
        "  author_id = sp.find('a').get('href')\n",
        "  tag = []\n",
        "  for tags in sp.find_all('a',class_='tag'):\n",
        "   tag.append(tags.text)\n",
        "  tag = ','.join(tag)\n",
        "  data.append([quote,author,author_id,tag] )\n",
        "\n"
      ],
      "metadata": {
        "id": "ghPGAUFkfdIo"
      },
      "execution_count": null,
      "outputs": []
    },
    {
      "cell_type": "code",
      "source": [
        "data[0]"
      ],
      "metadata": {
        "colab": {
          "base_uri": "https://localhost:8080/"
        },
        "id": "g_g4GkEEgC4z",
        "outputId": "9b6dd3de-62bd-4187-cbf3-9eb26ab34572"
      },
      "execution_count": null,
      "outputs": [
        {
          "output_type": "execute_result",
          "data": {
            "text/plain": [
              "['The world as we have created it is a process of our thinking. It cannot be changed without changing our thinking.',\n",
              " 'Albert Einstein',\n",
              " '/author/Albert-Einstein',\n",
              " 'change,deep-thoughts,thinking,world']"
            ]
          },
          "metadata": {},
          "execution_count": 34
        }
      ]
    },
    {
      "cell_type": "markdown",
      "source": [
        "# **Storing the entire data in a dataframe**"
      ],
      "metadata": {
        "id": "QxfSJrZxjGPD"
      }
    },
    {
      "cell_type": "code",
      "source": [
        "data=pd.DataFrame(data,columns=['quotes','author','author_id','tag' ])"
      ],
      "metadata": {
        "id": "o1_gINTAgJLf"
      },
      "execution_count": null,
      "outputs": []
    },
    {
      "cell_type": "code",
      "source": [
        "data"
      ],
      "metadata": {
        "colab": {
          "base_uri": "https://localhost:8080/",
          "height": 536
        },
        "id": "khpxxDrWgej6",
        "outputId": "c98b2e1c-92e1-46be-ee59-811245ac9c7a"
      },
      "execution_count": null,
      "outputs": [
        {
          "output_type": "execute_result",
          "data": {
            "text/plain": [
              "                                              quotes             author  \\\n",
              "0  The world as we have created it is a process o...    Albert Einstein   \n",
              "1  It is our choices, Harry, that show what we tr...       J.K. Rowling   \n",
              "2  There are only two ways to live your life. One...    Albert Einstein   \n",
              "3  The person, be it gentleman or lady, who has n...        Jane Austen   \n",
              "4  Imperfection is beauty, madness is genius and ...     Marilyn Monroe   \n",
              "5  Try not to become a man of success. Rather bec...    Albert Einstein   \n",
              "6  It is better to be hated for what you are than...         André Gide   \n",
              "7  I have not failed. I've just found 10,000 ways...   Thomas A. Edison   \n",
              "8  A woman is like a tea bag; you never know how ...  Eleanor Roosevelt   \n",
              "9   A day without sunshine is like, you know, night.       Steve Martin   \n",
              "\n",
              "                   author_id                                       tag  \n",
              "0    /author/Albert-Einstein       change,deep-thoughts,thinking,world  \n",
              "1        /author/J-K-Rowling                         abilities,choices  \n",
              "2    /author/Albert-Einstein  inspirational,life,live,miracle,miracles  \n",
              "3        /author/Jane-Austen             aliteracy,books,classic,humor  \n",
              "4     /author/Marilyn-Monroe                 be-yourself,inspirational  \n",
              "5    /author/Albert-Einstein                   adulthood,success,value  \n",
              "6         /author/Andre-Gide                                 life,love  \n",
              "7    /author/Thomas-A-Edison  edison,failure,inspirational,paraphrased  \n",
              "8  /author/Eleanor-Roosevelt           misattributed-eleanor-roosevelt  \n",
              "9       /author/Steve-Martin                      humor,obvious,simile  "
            ],
            "text/html": [
              "\n",
              "  <div id=\"df-5445e513-c243-43d4-83d0-238320e8fbad\" class=\"colab-df-container\">\n",
              "    <div>\n",
              "<style scoped>\n",
              "    .dataframe tbody tr th:only-of-type {\n",
              "        vertical-align: middle;\n",
              "    }\n",
              "\n",
              "    .dataframe tbody tr th {\n",
              "        vertical-align: top;\n",
              "    }\n",
              "\n",
              "    .dataframe thead th {\n",
              "        text-align: right;\n",
              "    }\n",
              "</style>\n",
              "<table border=\"1\" class=\"dataframe\">\n",
              "  <thead>\n",
              "    <tr style=\"text-align: right;\">\n",
              "      <th></th>\n",
              "      <th>quotes</th>\n",
              "      <th>author</th>\n",
              "      <th>author_id</th>\n",
              "      <th>tag</th>\n",
              "    </tr>\n",
              "  </thead>\n",
              "  <tbody>\n",
              "    <tr>\n",
              "      <th>0</th>\n",
              "      <td>The world as we have created it is a process o...</td>\n",
              "      <td>Albert Einstein</td>\n",
              "      <td>/author/Albert-Einstein</td>\n",
              "      <td>change,deep-thoughts,thinking,world</td>\n",
              "    </tr>\n",
              "    <tr>\n",
              "      <th>1</th>\n",
              "      <td>It is our choices, Harry, that show what we tr...</td>\n",
              "      <td>J.K. Rowling</td>\n",
              "      <td>/author/J-K-Rowling</td>\n",
              "      <td>abilities,choices</td>\n",
              "    </tr>\n",
              "    <tr>\n",
              "      <th>2</th>\n",
              "      <td>There are only two ways to live your life. One...</td>\n",
              "      <td>Albert Einstein</td>\n",
              "      <td>/author/Albert-Einstein</td>\n",
              "      <td>inspirational,life,live,miracle,miracles</td>\n",
              "    </tr>\n",
              "    <tr>\n",
              "      <th>3</th>\n",
              "      <td>The person, be it gentleman or lady, who has n...</td>\n",
              "      <td>Jane Austen</td>\n",
              "      <td>/author/Jane-Austen</td>\n",
              "      <td>aliteracy,books,classic,humor</td>\n",
              "    </tr>\n",
              "    <tr>\n",
              "      <th>4</th>\n",
              "      <td>Imperfection is beauty, madness is genius and ...</td>\n",
              "      <td>Marilyn Monroe</td>\n",
              "      <td>/author/Marilyn-Monroe</td>\n",
              "      <td>be-yourself,inspirational</td>\n",
              "    </tr>\n",
              "    <tr>\n",
              "      <th>5</th>\n",
              "      <td>Try not to become a man of success. Rather bec...</td>\n",
              "      <td>Albert Einstein</td>\n",
              "      <td>/author/Albert-Einstein</td>\n",
              "      <td>adulthood,success,value</td>\n",
              "    </tr>\n",
              "    <tr>\n",
              "      <th>6</th>\n",
              "      <td>It is better to be hated for what you are than...</td>\n",
              "      <td>André Gide</td>\n",
              "      <td>/author/Andre-Gide</td>\n",
              "      <td>life,love</td>\n",
              "    </tr>\n",
              "    <tr>\n",
              "      <th>7</th>\n",
              "      <td>I have not failed. I've just found 10,000 ways...</td>\n",
              "      <td>Thomas A. Edison</td>\n",
              "      <td>/author/Thomas-A-Edison</td>\n",
              "      <td>edison,failure,inspirational,paraphrased</td>\n",
              "    </tr>\n",
              "    <tr>\n",
              "      <th>8</th>\n",
              "      <td>A woman is like a tea bag; you never know how ...</td>\n",
              "      <td>Eleanor Roosevelt</td>\n",
              "      <td>/author/Eleanor-Roosevelt</td>\n",
              "      <td>misattributed-eleanor-roosevelt</td>\n",
              "    </tr>\n",
              "    <tr>\n",
              "      <th>9</th>\n",
              "      <td>A day without sunshine is like, you know, night.</td>\n",
              "      <td>Steve Martin</td>\n",
              "      <td>/author/Steve-Martin</td>\n",
              "      <td>humor,obvious,simile</td>\n",
              "    </tr>\n",
              "  </tbody>\n",
              "</table>\n",
              "</div>\n",
              "    <div class=\"colab-df-buttons\">\n",
              "\n",
              "  <div class=\"colab-df-container\">\n",
              "    <button class=\"colab-df-convert\" onclick=\"convertToInteractive('df-5445e513-c243-43d4-83d0-238320e8fbad')\"\n",
              "            title=\"Convert this dataframe to an interactive table.\"\n",
              "            style=\"display:none;\">\n",
              "\n",
              "  <svg xmlns=\"http://www.w3.org/2000/svg\" height=\"24px\" viewBox=\"0 -960 960 960\">\n",
              "    <path d=\"M120-120v-720h720v720H120Zm60-500h600v-160H180v160Zm220 220h160v-160H400v160Zm0 220h160v-160H400v160ZM180-400h160v-160H180v160Zm440 0h160v-160H620v160ZM180-180h160v-160H180v160Zm440 0h160v-160H620v160Z\"/>\n",
              "  </svg>\n",
              "    </button>\n",
              "\n",
              "  <style>\n",
              "    .colab-df-container {\n",
              "      display:flex;\n",
              "      gap: 12px;\n",
              "    }\n",
              "\n",
              "    .colab-df-convert {\n",
              "      background-color: #E8F0FE;\n",
              "      border: none;\n",
              "      border-radius: 50%;\n",
              "      cursor: pointer;\n",
              "      display: none;\n",
              "      fill: #1967D2;\n",
              "      height: 32px;\n",
              "      padding: 0 0 0 0;\n",
              "      width: 32px;\n",
              "    }\n",
              "\n",
              "    .colab-df-convert:hover {\n",
              "      background-color: #E2EBFA;\n",
              "      box-shadow: 0px 1px 2px rgba(60, 64, 67, 0.3), 0px 1px 3px 1px rgba(60, 64, 67, 0.15);\n",
              "      fill: #174EA6;\n",
              "    }\n",
              "\n",
              "    .colab-df-buttons div {\n",
              "      margin-bottom: 4px;\n",
              "    }\n",
              "\n",
              "    [theme=dark] .colab-df-convert {\n",
              "      background-color: #3B4455;\n",
              "      fill: #D2E3FC;\n",
              "    }\n",
              "\n",
              "    [theme=dark] .colab-df-convert:hover {\n",
              "      background-color: #434B5C;\n",
              "      box-shadow: 0px 1px 3px 1px rgba(0, 0, 0, 0.15);\n",
              "      filter: drop-shadow(0px 1px 2px rgba(0, 0, 0, 0.3));\n",
              "      fill: #FFFFFF;\n",
              "    }\n",
              "  </style>\n",
              "\n",
              "    <script>\n",
              "      const buttonEl =\n",
              "        document.querySelector('#df-5445e513-c243-43d4-83d0-238320e8fbad button.colab-df-convert');\n",
              "      buttonEl.style.display =\n",
              "        google.colab.kernel.accessAllowed ? 'block' : 'none';\n",
              "\n",
              "      async function convertToInteractive(key) {\n",
              "        const element = document.querySelector('#df-5445e513-c243-43d4-83d0-238320e8fbad');\n",
              "        const dataTable =\n",
              "          await google.colab.kernel.invokeFunction('convertToInteractive',\n",
              "                                                    [key], {});\n",
              "        if (!dataTable) return;\n",
              "\n",
              "        const docLinkHtml = 'Like what you see? Visit the ' +\n",
              "          '<a target=\"_blank\" href=https://colab.research.google.com/notebooks/data_table.ipynb>data table notebook</a>'\n",
              "          + ' to learn more about interactive tables.';\n",
              "        element.innerHTML = '';\n",
              "        dataTable['output_type'] = 'display_data';\n",
              "        await google.colab.output.renderOutput(dataTable, element);\n",
              "        const docLink = document.createElement('div');\n",
              "        docLink.innerHTML = docLinkHtml;\n",
              "        element.appendChild(docLink);\n",
              "      }\n",
              "    </script>\n",
              "  </div>\n",
              "\n",
              "\n",
              "<div id=\"df-964135dc-1e4b-4589-8e2a-f0052749a5b3\">\n",
              "  <button class=\"colab-df-quickchart\" onclick=\"quickchart('df-964135dc-1e4b-4589-8e2a-f0052749a5b3')\"\n",
              "            title=\"Suggest charts\"\n",
              "            style=\"display:none;\">\n",
              "\n",
              "<svg xmlns=\"http://www.w3.org/2000/svg\" height=\"24px\"viewBox=\"0 0 24 24\"\n",
              "     width=\"24px\">\n",
              "    <g>\n",
              "        <path d=\"M19 3H5c-1.1 0-2 .9-2 2v14c0 1.1.9 2 2 2h14c1.1 0 2-.9 2-2V5c0-1.1-.9-2-2-2zM9 17H7v-7h2v7zm4 0h-2V7h2v10zm4 0h-2v-4h2v4z\"/>\n",
              "    </g>\n",
              "</svg>\n",
              "  </button>\n",
              "\n",
              "<style>\n",
              "  .colab-df-quickchart {\n",
              "      --bg-color: #E8F0FE;\n",
              "      --fill-color: #1967D2;\n",
              "      --hover-bg-color: #E2EBFA;\n",
              "      --hover-fill-color: #174EA6;\n",
              "      --disabled-fill-color: #AAA;\n",
              "      --disabled-bg-color: #DDD;\n",
              "  }\n",
              "\n",
              "  [theme=dark] .colab-df-quickchart {\n",
              "      --bg-color: #3B4455;\n",
              "      --fill-color: #D2E3FC;\n",
              "      --hover-bg-color: #434B5C;\n",
              "      --hover-fill-color: #FFFFFF;\n",
              "      --disabled-bg-color: #3B4455;\n",
              "      --disabled-fill-color: #666;\n",
              "  }\n",
              "\n",
              "  .colab-df-quickchart {\n",
              "    background-color: var(--bg-color);\n",
              "    border: none;\n",
              "    border-radius: 50%;\n",
              "    cursor: pointer;\n",
              "    display: none;\n",
              "    fill: var(--fill-color);\n",
              "    height: 32px;\n",
              "    padding: 0;\n",
              "    width: 32px;\n",
              "  }\n",
              "\n",
              "  .colab-df-quickchart:hover {\n",
              "    background-color: var(--hover-bg-color);\n",
              "    box-shadow: 0 1px 2px rgba(60, 64, 67, 0.3), 0 1px 3px 1px rgba(60, 64, 67, 0.15);\n",
              "    fill: var(--button-hover-fill-color);\n",
              "  }\n",
              "\n",
              "  .colab-df-quickchart-complete:disabled,\n",
              "  .colab-df-quickchart-complete:disabled:hover {\n",
              "    background-color: var(--disabled-bg-color);\n",
              "    fill: var(--disabled-fill-color);\n",
              "    box-shadow: none;\n",
              "  }\n",
              "\n",
              "  .colab-df-spinner {\n",
              "    border: 2px solid var(--fill-color);\n",
              "    border-color: transparent;\n",
              "    border-bottom-color: var(--fill-color);\n",
              "    animation:\n",
              "      spin 1s steps(1) infinite;\n",
              "  }\n",
              "\n",
              "  @keyframes spin {\n",
              "    0% {\n",
              "      border-color: transparent;\n",
              "      border-bottom-color: var(--fill-color);\n",
              "      border-left-color: var(--fill-color);\n",
              "    }\n",
              "    20% {\n",
              "      border-color: transparent;\n",
              "      border-left-color: var(--fill-color);\n",
              "      border-top-color: var(--fill-color);\n",
              "    }\n",
              "    30% {\n",
              "      border-color: transparent;\n",
              "      border-left-color: var(--fill-color);\n",
              "      border-top-color: var(--fill-color);\n",
              "      border-right-color: var(--fill-color);\n",
              "    }\n",
              "    40% {\n",
              "      border-color: transparent;\n",
              "      border-right-color: var(--fill-color);\n",
              "      border-top-color: var(--fill-color);\n",
              "    }\n",
              "    60% {\n",
              "      border-color: transparent;\n",
              "      border-right-color: var(--fill-color);\n",
              "    }\n",
              "    80% {\n",
              "      border-color: transparent;\n",
              "      border-right-color: var(--fill-color);\n",
              "      border-bottom-color: var(--fill-color);\n",
              "    }\n",
              "    90% {\n",
              "      border-color: transparent;\n",
              "      border-bottom-color: var(--fill-color);\n",
              "    }\n",
              "  }\n",
              "</style>\n",
              "\n",
              "  <script>\n",
              "    async function quickchart(key) {\n",
              "      const quickchartButtonEl =\n",
              "        document.querySelector('#' + key + ' button');\n",
              "      quickchartButtonEl.disabled = true;  // To prevent multiple clicks.\n",
              "      quickchartButtonEl.classList.add('colab-df-spinner');\n",
              "      try {\n",
              "        const charts = await google.colab.kernel.invokeFunction(\n",
              "            'suggestCharts', [key], {});\n",
              "      } catch (error) {\n",
              "        console.error('Error during call to suggestCharts:', error);\n",
              "      }\n",
              "      quickchartButtonEl.classList.remove('colab-df-spinner');\n",
              "      quickchartButtonEl.classList.add('colab-df-quickchart-complete');\n",
              "    }\n",
              "    (() => {\n",
              "      let quickchartButtonEl =\n",
              "        document.querySelector('#df-964135dc-1e4b-4589-8e2a-f0052749a5b3 button');\n",
              "      quickchartButtonEl.style.display =\n",
              "        google.colab.kernel.accessAllowed ? 'block' : 'none';\n",
              "    })();\n",
              "  </script>\n",
              "</div>\n",
              "\n",
              "  <div id=\"id_948833e3-47bf-4e33-a227-e697760bf0c7\">\n",
              "    <style>\n",
              "      .colab-df-generate {\n",
              "        background-color: #E8F0FE;\n",
              "        border: none;\n",
              "        border-radius: 50%;\n",
              "        cursor: pointer;\n",
              "        display: none;\n",
              "        fill: #1967D2;\n",
              "        height: 32px;\n",
              "        padding: 0 0 0 0;\n",
              "        width: 32px;\n",
              "      }\n",
              "\n",
              "      .colab-df-generate:hover {\n",
              "        background-color: #E2EBFA;\n",
              "        box-shadow: 0px 1px 2px rgba(60, 64, 67, 0.3), 0px 1px 3px 1px rgba(60, 64, 67, 0.15);\n",
              "        fill: #174EA6;\n",
              "      }\n",
              "\n",
              "      [theme=dark] .colab-df-generate {\n",
              "        background-color: #3B4455;\n",
              "        fill: #D2E3FC;\n",
              "      }\n",
              "\n",
              "      [theme=dark] .colab-df-generate:hover {\n",
              "        background-color: #434B5C;\n",
              "        box-shadow: 0px 1px 3px 1px rgba(0, 0, 0, 0.15);\n",
              "        filter: drop-shadow(0px 1px 2px rgba(0, 0, 0, 0.3));\n",
              "        fill: #FFFFFF;\n",
              "      }\n",
              "    </style>\n",
              "    <button class=\"colab-df-generate\" onclick=\"generateWithVariable('data')\"\n",
              "            title=\"Generate code using this dataframe.\"\n",
              "            style=\"display:none;\">\n",
              "\n",
              "  <svg xmlns=\"http://www.w3.org/2000/svg\" height=\"24px\"viewBox=\"0 0 24 24\"\n",
              "       width=\"24px\">\n",
              "    <path d=\"M7,19H8.4L18.45,9,17,7.55,7,17.6ZM5,21V16.75L18.45,3.32a2,2,0,0,1,2.83,0l1.4,1.43a1.91,1.91,0,0,1,.58,1.4,1.91,1.91,0,0,1-.58,1.4L9.25,21ZM18.45,9,17,7.55Zm-12,3A5.31,5.31,0,0,0,4.9,8.1,5.31,5.31,0,0,0,1,6.5,5.31,5.31,0,0,0,4.9,4.9,5.31,5.31,0,0,0,6.5,1,5.31,5.31,0,0,0,8.1,4.9,5.31,5.31,0,0,0,12,6.5,5.46,5.46,0,0,0,6.5,12Z\"/>\n",
              "  </svg>\n",
              "    </button>\n",
              "    <script>\n",
              "      (() => {\n",
              "      const buttonEl =\n",
              "        document.querySelector('#id_948833e3-47bf-4e33-a227-e697760bf0c7 button.colab-df-generate');\n",
              "      buttonEl.style.display =\n",
              "        google.colab.kernel.accessAllowed ? 'block' : 'none';\n",
              "\n",
              "      buttonEl.onclick = () => {\n",
              "        google.colab.notebook.generateWithVariable('data');\n",
              "      }\n",
              "      })();\n",
              "    </script>\n",
              "  </div>\n",
              "\n",
              "    </div>\n",
              "  </div>\n"
            ]
          },
          "metadata": {},
          "execution_count": 39
        }
      ]
    },
    {
      "cell_type": "code",
      "source": [
        "# saving the dataframe as a csv file\n",
        "data.to_csv('quotes.csv',index=True)"
      ],
      "metadata": {
        "id": "yKSge3shgjk5"
      },
      "execution_count": null,
      "outputs": []
    },
    {
      "cell_type": "code",
      "source": [],
      "metadata": {
        "id": "tXCamLOthBkP"
      },
      "execution_count": null,
      "outputs": []
    }
  ]
}