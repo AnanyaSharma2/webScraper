{
  "nbformat": 4,
  "nbformat_minor": 0,
  "metadata": {
    "colab": {
      "provenance": [],
      "authorship_tag": "ABX9TyPEvu93gPLPOM/lGenxg94a",
      "include_colab_link": true
    },
    "kernelspec": {
      "name": "python3",
      "display_name": "Python 3"
    },
    "language_info": {
      "name": "python"
    }
  },
  "cells": [
    {
      "cell_type": "markdown",
      "metadata": {
        "id": "view-in-github",
        "colab_type": "text"
      },
      "source": [
        "<a href=\"https://colab.research.google.com/github/AnanyaSharma2/webScraper/blob/main/QuotesScraper.ipynb\" target=\"_parent\"><img src=\"https://colab.research.google.com/assets/colab-badge.svg\" alt=\"Open In Colab\"/></a>"
      ]
    },
    {
      "cell_type": "markdown",
      "source": [
        "In this project I have extracted the information from the 10 pages of 'https://quotes.toscrape.com/page/'  site such as\n",
        "> Quotes, Author id, Author name , Tags present in the page\n",
        ">>  And the coverted the extracted data into the data frame for analysis the entire dataframe"
      ],
      "metadata": {
        "id": "mdIWu4JegNKG"
      }
    },
    {
      "cell_type": "code",
      "execution_count": null,
      "metadata": {
        "id": "0-qWZSZQl9dv"
      },
      "outputs": [],
      "source": [
        "import requests\n",
        "import pandas as pd\n",
        "from tqdm import tqdm\n",
        "from bs4 import BeautifulSoup"
      ]
    },
    {
      "cell_type": "markdown",
      "source": [
        "### **Extractracting the data from 10 pages from the link 'https://quotes.toscrape.com/page/'**"
      ],
      "metadata": {
        "id": "qUOqFL_RbMlO"
      }
    },
    {
      "cell_type": "code",
      "source": [
        "data = []\n",
        "for page in range (2,11):\n",
        " link='https://quotes.toscrape.com/page/' + str(page)\n",
        " res = requests.get(link)\n",
        " soup = BeautifulSoup(res.text,'html.parser')\n",
        " for sp in soup.find_all('div',class_='quote'):\n",
        "  quote = sp.find('span',class_='text').text[1:-1]\n",
        "  author = sp.find('small',class_='author').text\n",
        "  author_id = sp.find('a').get('href')\n",
        "  tag = []\n",
        "  for tags in sp.find_all('a',class_='tag'):\n",
        "   tag.append(tags.text)\n",
        "  tag = ','.join(tag)\n",
        "  data.append([quote,author,author_id,tag] )\n"
      ],
      "metadata": {
        "id": "HkSsV6Y0mqE-"
      },
      "execution_count": null,
      "outputs": []
    },
    {
      "cell_type": "markdown",
      "source": [
        "Getting the progress of the execution"
      ],
      "metadata": {
        "id": "KebFucjxoeQP"
      }
    },
    {
      "cell_type": "code",
      "source": [
        "data = []\n",
        "for page in tqdm(range (2,11)):\n",
        "    link='https://quotes.toscrape.com/page/' + str(page)\n",
        "    res = requests.get(link)\n",
        "    soup = BeautifulSoup(res.text,'html.parser')\n",
        "    for sp in soup.find_all('div',class_='quote'):\n",
        "       quote = sp.find('span',class_='text').text[1:-1]\n",
        "       author = sp.find('small',class_='author').text\n",
        "       author_id = sp.find('a').get('href')\n",
        "       tag = []\n",
        "       for tags in sp.find_all('a',class_='tag'):\n",
        "           tag.append(tags.text)\n",
        "       tag = ','.join(tag)\n",
        "       data.append([quote,author,author_id,tag] )\n"
      ],
      "metadata": {
        "colab": {
          "base_uri": "https://localhost:8080/"
        },
        "id": "eP7vGl25m_Yr",
        "outputId": "059df031-3c76-48ab-dc02-06b0954c17eb"
      },
      "execution_count": null,
      "outputs": [
        {
          "output_type": "stream",
          "name": "stderr",
          "text": [
            "100%|██████████| 9/9 [00:02<00:00,  3.52it/s]\n"
          ]
        }
      ]
    },
    {
      "cell_type": "markdown",
      "source": [
        "## **Converting the list to dataframe and Storing the data in Quotes.csv file**"
      ],
      "metadata": {
        "id": "4f49GT0sbgX4"
      }
    },
    {
      "cell_type": "code",
      "source": [
        "data=pd.DataFrame(data,columns=['quotes','author','author_id','tag' ])\n",
        "data.to_csv('Quotes.csv',index=True)"
      ],
      "metadata": {
        "id": "OL3ZYchBoX3i"
      },
      "execution_count": null,
      "outputs": []
    },
    {
      "cell_type": "code",
      "source": [
        "data"
      ],
      "metadata": {
        "colab": {
          "base_uri": "https://localhost:8080/",
          "height": 423
        },
        "id": "ic1zJqfBos_7",
        "outputId": "d402a9d9-fe89-44bf-dd17-88c588c78513"
      },
      "execution_count": null,
      "outputs": [
        {
          "output_type": "execute_result",
          "data": {
            "text/plain": [
              "                                               quotes              author  \\\n",
              "0   This life is what you make it. No matter what,...      Marilyn Monroe   \n",
              "1   It takes a great deal of bravery to stand up t...        J.K. Rowling   \n",
              "2   If you can't explain it to a six year old, you...     Albert Einstein   \n",
              "3   You may not be her first, her last, or her onl...          Bob Marley   \n",
              "4   I like nonsense, it wakes up the brain cells. ...           Dr. Seuss   \n",
              "..                                                ...                 ...   \n",
              "85  You never really understand a person until you...          Harper Lee   \n",
              "86  You have to write the book that wants to be wr...   Madeleine L'Engle   \n",
              "87  Never tell the truth to people who are not wor...          Mark Twain   \n",
              "88          A person's a person, no matter how small.           Dr. Seuss   \n",
              "89  ... a mind needs books as a sword needs a whet...  George R.R. Martin   \n",
              "\n",
              "                    author_id  \\\n",
              "0      /author/Marilyn-Monroe   \n",
              "1         /author/J-K-Rowling   \n",
              "2     /author/Albert-Einstein   \n",
              "3          /author/Bob-Marley   \n",
              "4            /author/Dr-Seuss   \n",
              "..                        ...   \n",
              "85         /author/Harper-Lee   \n",
              "86   /author/Madeleine-LEngle   \n",
              "87         /author/Mark-Twain   \n",
              "88           /author/Dr-Seuss   \n",
              "89  /author/George-R-R-Martin   \n",
              "\n",
              "                                                  tag  \n",
              "0   friends,heartbreak,inspirational,life,love,sis...  \n",
              "1                                     courage,friends  \n",
              "2                               simplicity,understand  \n",
              "3                                                love  \n",
              "4                                             fantasy  \n",
              "..                                                ...  \n",
              "85                                better-life-empathy  \n",
              "86  books,children,difficult,grown-ups,write,write...  \n",
              "87                                              truth  \n",
              "88                                      inspirational  \n",
              "89                                         books,mind  \n",
              "\n",
              "[90 rows x 4 columns]"
            ],
            "text/html": [
              "\n",
              "  <div id=\"df-94a0339c-5196-496c-a5de-ec548f9d2e2a\" class=\"colab-df-container\">\n",
              "    <div>\n",
              "<style scoped>\n",
              "    .dataframe tbody tr th:only-of-type {\n",
              "        vertical-align: middle;\n",
              "    }\n",
              "\n",
              "    .dataframe tbody tr th {\n",
              "        vertical-align: top;\n",
              "    }\n",
              "\n",
              "    .dataframe thead th {\n",
              "        text-align: right;\n",
              "    }\n",
              "</style>\n",
              "<table border=\"1\" class=\"dataframe\">\n",
              "  <thead>\n",
              "    <tr style=\"text-align: right;\">\n",
              "      <th></th>\n",
              "      <th>quotes</th>\n",
              "      <th>author</th>\n",
              "      <th>author_id</th>\n",
              "      <th>tag</th>\n",
              "    </tr>\n",
              "  </thead>\n",
              "  <tbody>\n",
              "    <tr>\n",
              "      <th>0</th>\n",
              "      <td>This life is what you make it. No matter what,...</td>\n",
              "      <td>Marilyn Monroe</td>\n",
              "      <td>/author/Marilyn-Monroe</td>\n",
              "      <td>friends,heartbreak,inspirational,life,love,sis...</td>\n",
              "    </tr>\n",
              "    <tr>\n",
              "      <th>1</th>\n",
              "      <td>It takes a great deal of bravery to stand up t...</td>\n",
              "      <td>J.K. Rowling</td>\n",
              "      <td>/author/J-K-Rowling</td>\n",
              "      <td>courage,friends</td>\n",
              "    </tr>\n",
              "    <tr>\n",
              "      <th>2</th>\n",
              "      <td>If you can't explain it to a six year old, you...</td>\n",
              "      <td>Albert Einstein</td>\n",
              "      <td>/author/Albert-Einstein</td>\n",
              "      <td>simplicity,understand</td>\n",
              "    </tr>\n",
              "    <tr>\n",
              "      <th>3</th>\n",
              "      <td>You may not be her first, her last, or her onl...</td>\n",
              "      <td>Bob Marley</td>\n",
              "      <td>/author/Bob-Marley</td>\n",
              "      <td>love</td>\n",
              "    </tr>\n",
              "    <tr>\n",
              "      <th>4</th>\n",
              "      <td>I like nonsense, it wakes up the brain cells. ...</td>\n",
              "      <td>Dr. Seuss</td>\n",
              "      <td>/author/Dr-Seuss</td>\n",
              "      <td>fantasy</td>\n",
              "    </tr>\n",
              "    <tr>\n",
              "      <th>...</th>\n",
              "      <td>...</td>\n",
              "      <td>...</td>\n",
              "      <td>...</td>\n",
              "      <td>...</td>\n",
              "    </tr>\n",
              "    <tr>\n",
              "      <th>85</th>\n",
              "      <td>You never really understand a person until you...</td>\n",
              "      <td>Harper Lee</td>\n",
              "      <td>/author/Harper-Lee</td>\n",
              "      <td>better-life-empathy</td>\n",
              "    </tr>\n",
              "    <tr>\n",
              "      <th>86</th>\n",
              "      <td>You have to write the book that wants to be wr...</td>\n",
              "      <td>Madeleine L'Engle</td>\n",
              "      <td>/author/Madeleine-LEngle</td>\n",
              "      <td>books,children,difficult,grown-ups,write,write...</td>\n",
              "    </tr>\n",
              "    <tr>\n",
              "      <th>87</th>\n",
              "      <td>Never tell the truth to people who are not wor...</td>\n",
              "      <td>Mark Twain</td>\n",
              "      <td>/author/Mark-Twain</td>\n",
              "      <td>truth</td>\n",
              "    </tr>\n",
              "    <tr>\n",
              "      <th>88</th>\n",
              "      <td>A person's a person, no matter how small.</td>\n",
              "      <td>Dr. Seuss</td>\n",
              "      <td>/author/Dr-Seuss</td>\n",
              "      <td>inspirational</td>\n",
              "    </tr>\n",
              "    <tr>\n",
              "      <th>89</th>\n",
              "      <td>... a mind needs books as a sword needs a whet...</td>\n",
              "      <td>George R.R. Martin</td>\n",
              "      <td>/author/George-R-R-Martin</td>\n",
              "      <td>books,mind</td>\n",
              "    </tr>\n",
              "  </tbody>\n",
              "</table>\n",
              "<p>90 rows × 4 columns</p>\n",
              "</div>\n",
              "    <div class=\"colab-df-buttons\">\n",
              "\n",
              "  <div class=\"colab-df-container\">\n",
              "    <button class=\"colab-df-convert\" onclick=\"convertToInteractive('df-94a0339c-5196-496c-a5de-ec548f9d2e2a')\"\n",
              "            title=\"Convert this dataframe to an interactive table.\"\n",
              "            style=\"display:none;\">\n",
              "\n",
              "  <svg xmlns=\"http://www.w3.org/2000/svg\" height=\"24px\" viewBox=\"0 -960 960 960\">\n",
              "    <path d=\"M120-120v-720h720v720H120Zm60-500h600v-160H180v160Zm220 220h160v-160H400v160Zm0 220h160v-160H400v160ZM180-400h160v-160H180v160Zm440 0h160v-160H620v160ZM180-180h160v-160H180v160Zm440 0h160v-160H620v160Z\"/>\n",
              "  </svg>\n",
              "    </button>\n",
              "\n",
              "  <style>\n",
              "    .colab-df-container {\n",
              "      display:flex;\n",
              "      gap: 12px;\n",
              "    }\n",
              "\n",
              "    .colab-df-convert {\n",
              "      background-color: #E8F0FE;\n",
              "      border: none;\n",
              "      border-radius: 50%;\n",
              "      cursor: pointer;\n",
              "      display: none;\n",
              "      fill: #1967D2;\n",
              "      height: 32px;\n",
              "      padding: 0 0 0 0;\n",
              "      width: 32px;\n",
              "    }\n",
              "\n",
              "    .colab-df-convert:hover {\n",
              "      background-color: #E2EBFA;\n",
              "      box-shadow: 0px 1px 2px rgba(60, 64, 67, 0.3), 0px 1px 3px 1px rgba(60, 64, 67, 0.15);\n",
              "      fill: #174EA6;\n",
              "    }\n",
              "\n",
              "    .colab-df-buttons div {\n",
              "      margin-bottom: 4px;\n",
              "    }\n",
              "\n",
              "    [theme=dark] .colab-df-convert {\n",
              "      background-color: #3B4455;\n",
              "      fill: #D2E3FC;\n",
              "    }\n",
              "\n",
              "    [theme=dark] .colab-df-convert:hover {\n",
              "      background-color: #434B5C;\n",
              "      box-shadow: 0px 1px 3px 1px rgba(0, 0, 0, 0.15);\n",
              "      filter: drop-shadow(0px 1px 2px rgba(0, 0, 0, 0.3));\n",
              "      fill: #FFFFFF;\n",
              "    }\n",
              "  </style>\n",
              "\n",
              "    <script>\n",
              "      const buttonEl =\n",
              "        document.querySelector('#df-94a0339c-5196-496c-a5de-ec548f9d2e2a button.colab-df-convert');\n",
              "      buttonEl.style.display =\n",
              "        google.colab.kernel.accessAllowed ? 'block' : 'none';\n",
              "\n",
              "      async function convertToInteractive(key) {\n",
              "        const element = document.querySelector('#df-94a0339c-5196-496c-a5de-ec548f9d2e2a');\n",
              "        const dataTable =\n",
              "          await google.colab.kernel.invokeFunction('convertToInteractive',\n",
              "                                                    [key], {});\n",
              "        if (!dataTable) return;\n",
              "\n",
              "        const docLinkHtml = 'Like what you see? Visit the ' +\n",
              "          '<a target=\"_blank\" href=https://colab.research.google.com/notebooks/data_table.ipynb>data table notebook</a>'\n",
              "          + ' to learn more about interactive tables.';\n",
              "        element.innerHTML = '';\n",
              "        dataTable['output_type'] = 'display_data';\n",
              "        await google.colab.output.renderOutput(dataTable, element);\n",
              "        const docLink = document.createElement('div');\n",
              "        docLink.innerHTML = docLinkHtml;\n",
              "        element.appendChild(docLink);\n",
              "      }\n",
              "    </script>\n",
              "  </div>\n",
              "\n",
              "\n",
              "<div id=\"df-c818e8bd-7e13-4dfb-9761-573ee18a2aa1\">\n",
              "  <button class=\"colab-df-quickchart\" onclick=\"quickchart('df-c818e8bd-7e13-4dfb-9761-573ee18a2aa1')\"\n",
              "            title=\"Suggest charts\"\n",
              "            style=\"display:none;\">\n",
              "\n",
              "<svg xmlns=\"http://www.w3.org/2000/svg\" height=\"24px\"viewBox=\"0 0 24 24\"\n",
              "     width=\"24px\">\n",
              "    <g>\n",
              "        <path d=\"M19 3H5c-1.1 0-2 .9-2 2v14c0 1.1.9 2 2 2h14c1.1 0 2-.9 2-2V5c0-1.1-.9-2-2-2zM9 17H7v-7h2v7zm4 0h-2V7h2v10zm4 0h-2v-4h2v4z\"/>\n",
              "    </g>\n",
              "</svg>\n",
              "  </button>\n",
              "\n",
              "<style>\n",
              "  .colab-df-quickchart {\n",
              "      --bg-color: #E8F0FE;\n",
              "      --fill-color: #1967D2;\n",
              "      --hover-bg-color: #E2EBFA;\n",
              "      --hover-fill-color: #174EA6;\n",
              "      --disabled-fill-color: #AAA;\n",
              "      --disabled-bg-color: #DDD;\n",
              "  }\n",
              "\n",
              "  [theme=dark] .colab-df-quickchart {\n",
              "      --bg-color: #3B4455;\n",
              "      --fill-color: #D2E3FC;\n",
              "      --hover-bg-color: #434B5C;\n",
              "      --hover-fill-color: #FFFFFF;\n",
              "      --disabled-bg-color: #3B4455;\n",
              "      --disabled-fill-color: #666;\n",
              "  }\n",
              "\n",
              "  .colab-df-quickchart {\n",
              "    background-color: var(--bg-color);\n",
              "    border: none;\n",
              "    border-radius: 50%;\n",
              "    cursor: pointer;\n",
              "    display: none;\n",
              "    fill: var(--fill-color);\n",
              "    height: 32px;\n",
              "    padding: 0;\n",
              "    width: 32px;\n",
              "  }\n",
              "\n",
              "  .colab-df-quickchart:hover {\n",
              "    background-color: var(--hover-bg-color);\n",
              "    box-shadow: 0 1px 2px rgba(60, 64, 67, 0.3), 0 1px 3px 1px rgba(60, 64, 67, 0.15);\n",
              "    fill: var(--button-hover-fill-color);\n",
              "  }\n",
              "\n",
              "  .colab-df-quickchart-complete:disabled,\n",
              "  .colab-df-quickchart-complete:disabled:hover {\n",
              "    background-color: var(--disabled-bg-color);\n",
              "    fill: var(--disabled-fill-color);\n",
              "    box-shadow: none;\n",
              "  }\n",
              "\n",
              "  .colab-df-spinner {\n",
              "    border: 2px solid var(--fill-color);\n",
              "    border-color: transparent;\n",
              "    border-bottom-color: var(--fill-color);\n",
              "    animation:\n",
              "      spin 1s steps(1) infinite;\n",
              "  }\n",
              "\n",
              "  @keyframes spin {\n",
              "    0% {\n",
              "      border-color: transparent;\n",
              "      border-bottom-color: var(--fill-color);\n",
              "      border-left-color: var(--fill-color);\n",
              "    }\n",
              "    20% {\n",
              "      border-color: transparent;\n",
              "      border-left-color: var(--fill-color);\n",
              "      border-top-color: var(--fill-color);\n",
              "    }\n",
              "    30% {\n",
              "      border-color: transparent;\n",
              "      border-left-color: var(--fill-color);\n",
              "      border-top-color: var(--fill-color);\n",
              "      border-right-color: var(--fill-color);\n",
              "    }\n",
              "    40% {\n",
              "      border-color: transparent;\n",
              "      border-right-color: var(--fill-color);\n",
              "      border-top-color: var(--fill-color);\n",
              "    }\n",
              "    60% {\n",
              "      border-color: transparent;\n",
              "      border-right-color: var(--fill-color);\n",
              "    }\n",
              "    80% {\n",
              "      border-color: transparent;\n",
              "      border-right-color: var(--fill-color);\n",
              "      border-bottom-color: var(--fill-color);\n",
              "    }\n",
              "    90% {\n",
              "      border-color: transparent;\n",
              "      border-bottom-color: var(--fill-color);\n",
              "    }\n",
              "  }\n",
              "</style>\n",
              "\n",
              "  <script>\n",
              "    async function quickchart(key) {\n",
              "      const quickchartButtonEl =\n",
              "        document.querySelector('#' + key + ' button');\n",
              "      quickchartButtonEl.disabled = true;  // To prevent multiple clicks.\n",
              "      quickchartButtonEl.classList.add('colab-df-spinner');\n",
              "      try {\n",
              "        const charts = await google.colab.kernel.invokeFunction(\n",
              "            'suggestCharts', [key], {});\n",
              "      } catch (error) {\n",
              "        console.error('Error during call to suggestCharts:', error);\n",
              "      }\n",
              "      quickchartButtonEl.classList.remove('colab-df-spinner');\n",
              "      quickchartButtonEl.classList.add('colab-df-quickchart-complete');\n",
              "    }\n",
              "    (() => {\n",
              "      let quickchartButtonEl =\n",
              "        document.querySelector('#df-c818e8bd-7e13-4dfb-9761-573ee18a2aa1 button');\n",
              "      quickchartButtonEl.style.display =\n",
              "        google.colab.kernel.accessAllowed ? 'block' : 'none';\n",
              "    })();\n",
              "  </script>\n",
              "</div>\n",
              "\n",
              "  <div id=\"id_c5b1a7a5-f0a3-42ef-aa77-6ce8ec5c0aff\">\n",
              "    <style>\n",
              "      .colab-df-generate {\n",
              "        background-color: #E8F0FE;\n",
              "        border: none;\n",
              "        border-radius: 50%;\n",
              "        cursor: pointer;\n",
              "        display: none;\n",
              "        fill: #1967D2;\n",
              "        height: 32px;\n",
              "        padding: 0 0 0 0;\n",
              "        width: 32px;\n",
              "      }\n",
              "\n",
              "      .colab-df-generate:hover {\n",
              "        background-color: #E2EBFA;\n",
              "        box-shadow: 0px 1px 2px rgba(60, 64, 67, 0.3), 0px 1px 3px 1px rgba(60, 64, 67, 0.15);\n",
              "        fill: #174EA6;\n",
              "      }\n",
              "\n",
              "      [theme=dark] .colab-df-generate {\n",
              "        background-color: #3B4455;\n",
              "        fill: #D2E3FC;\n",
              "      }\n",
              "\n",
              "      [theme=dark] .colab-df-generate:hover {\n",
              "        background-color: #434B5C;\n",
              "        box-shadow: 0px 1px 3px 1px rgba(0, 0, 0, 0.15);\n",
              "        filter: drop-shadow(0px 1px 2px rgba(0, 0, 0, 0.3));\n",
              "        fill: #FFFFFF;\n",
              "      }\n",
              "    </style>\n",
              "    <button class=\"colab-df-generate\" onclick=\"generateWithVariable('data')\"\n",
              "            title=\"Generate code using this dataframe.\"\n",
              "            style=\"display:none;\">\n",
              "\n",
              "  <svg xmlns=\"http://www.w3.org/2000/svg\" height=\"24px\"viewBox=\"0 0 24 24\"\n",
              "       width=\"24px\">\n",
              "    <path d=\"M7,19H8.4L18.45,9,17,7.55,7,17.6ZM5,21V16.75L18.45,3.32a2,2,0,0,1,2.83,0l1.4,1.43a1.91,1.91,0,0,1,.58,1.4,1.91,1.91,0,0,1-.58,1.4L9.25,21ZM18.45,9,17,7.55Zm-12,3A5.31,5.31,0,0,0,4.9,8.1,5.31,5.31,0,0,0,1,6.5,5.31,5.31,0,0,0,4.9,4.9,5.31,5.31,0,0,0,6.5,1,5.31,5.31,0,0,0,8.1,4.9,5.31,5.31,0,0,0,12,6.5,5.46,5.46,0,0,0,6.5,12Z\"/>\n",
              "  </svg>\n",
              "    </button>\n",
              "    <script>\n",
              "      (() => {\n",
              "      const buttonEl =\n",
              "        document.querySelector('#id_c5b1a7a5-f0a3-42ef-aa77-6ce8ec5c0aff button.colab-df-generate');\n",
              "      buttonEl.style.display =\n",
              "        google.colab.kernel.accessAllowed ? 'block' : 'none';\n",
              "\n",
              "      buttonEl.onclick = () => {\n",
              "        google.colab.notebook.generateWithVariable('data');\n",
              "      }\n",
              "      })();\n",
              "    </script>\n",
              "  </div>\n",
              "\n",
              "    </div>\n",
              "  </div>\n"
            ]
          },
          "metadata": {},
          "execution_count": 5
        }
      ]
    },
    {
      "cell_type": "markdown",
      "source": [
        "### **Analysing the dataframe**"
      ],
      "metadata": {
        "id": "n1qGMUpObvFj"
      }
    },
    {
      "cell_type": "code",
      "source": [
        "data.info()"
      ],
      "metadata": {
        "id": "lwYEtaQ2pBUn",
        "colab": {
          "base_uri": "https://localhost:8080/"
        },
        "outputId": "78ebedfd-9049-4853-ae5d-0e8366f22d7c"
      },
      "execution_count": null,
      "outputs": [
        {
          "output_type": "stream",
          "name": "stdout",
          "text": [
            "<class 'pandas.core.frame.DataFrame'>\n",
            "RangeIndex: 90 entries, 0 to 89\n",
            "Data columns (total 4 columns):\n",
            " #   Column     Non-Null Count  Dtype \n",
            "---  ------     --------------  ----- \n",
            " 0   quotes     90 non-null     object\n",
            " 1   author     90 non-null     object\n",
            " 2   author_id  90 non-null     object\n",
            " 3   tag        90 non-null     object\n",
            "dtypes: object(4)\n",
            "memory usage: 2.9+ KB\n"
          ]
        }
      ]
    },
    {
      "cell_type": "code",
      "source": [
        "data.describe()"
      ],
      "metadata": {
        "colab": {
          "base_uri": "https://localhost:8080/",
          "height": 174
        },
        "id": "mcYXriWCb752",
        "outputId": "f8508771-305e-43d2-ba9f-cf150953ce53"
      },
      "execution_count": null,
      "outputs": [
        {
          "output_type": "execute_result",
          "data": {
            "text/plain": [
              "                                                   quotes        author  \\\n",
              "count                                                  90            90   \n",
              "unique                                                 90            47   \n",
              "top     This life is what you make it. No matter what,...  J.K. Rowling   \n",
              "freq                                                    1             8   \n",
              "\n",
              "                  author_id   tag  \n",
              "count                    90    90  \n",
              "unique                   47    74  \n",
              "top     /author/J-K-Rowling  love  \n",
              "freq                      8     4  "
            ],
            "text/html": [
              "\n",
              "  <div id=\"df-4ef4aba3-26be-4faa-b3c7-47b9fa77deb4\" class=\"colab-df-container\">\n",
              "    <div>\n",
              "<style scoped>\n",
              "    .dataframe tbody tr th:only-of-type {\n",
              "        vertical-align: middle;\n",
              "    }\n",
              "\n",
              "    .dataframe tbody tr th {\n",
              "        vertical-align: top;\n",
              "    }\n",
              "\n",
              "    .dataframe thead th {\n",
              "        text-align: right;\n",
              "    }\n",
              "</style>\n",
              "<table border=\"1\" class=\"dataframe\">\n",
              "  <thead>\n",
              "    <tr style=\"text-align: right;\">\n",
              "      <th></th>\n",
              "      <th>quotes</th>\n",
              "      <th>author</th>\n",
              "      <th>author_id</th>\n",
              "      <th>tag</th>\n",
              "    </tr>\n",
              "  </thead>\n",
              "  <tbody>\n",
              "    <tr>\n",
              "      <th>count</th>\n",
              "      <td>90</td>\n",
              "      <td>90</td>\n",
              "      <td>90</td>\n",
              "      <td>90</td>\n",
              "    </tr>\n",
              "    <tr>\n",
              "      <th>unique</th>\n",
              "      <td>90</td>\n",
              "      <td>47</td>\n",
              "      <td>47</td>\n",
              "      <td>74</td>\n",
              "    </tr>\n",
              "    <tr>\n",
              "      <th>top</th>\n",
              "      <td>This life is what you make it. No matter what,...</td>\n",
              "      <td>J.K. Rowling</td>\n",
              "      <td>/author/J-K-Rowling</td>\n",
              "      <td>love</td>\n",
              "    </tr>\n",
              "    <tr>\n",
              "      <th>freq</th>\n",
              "      <td>1</td>\n",
              "      <td>8</td>\n",
              "      <td>8</td>\n",
              "      <td>4</td>\n",
              "    </tr>\n",
              "  </tbody>\n",
              "</table>\n",
              "</div>\n",
              "    <div class=\"colab-df-buttons\">\n",
              "\n",
              "  <div class=\"colab-df-container\">\n",
              "    <button class=\"colab-df-convert\" onclick=\"convertToInteractive('df-4ef4aba3-26be-4faa-b3c7-47b9fa77deb4')\"\n",
              "            title=\"Convert this dataframe to an interactive table.\"\n",
              "            style=\"display:none;\">\n",
              "\n",
              "  <svg xmlns=\"http://www.w3.org/2000/svg\" height=\"24px\" viewBox=\"0 -960 960 960\">\n",
              "    <path d=\"M120-120v-720h720v720H120Zm60-500h600v-160H180v160Zm220 220h160v-160H400v160Zm0 220h160v-160H400v160ZM180-400h160v-160H180v160Zm440 0h160v-160H620v160ZM180-180h160v-160H180v160Zm440 0h160v-160H620v160Z\"/>\n",
              "  </svg>\n",
              "    </button>\n",
              "\n",
              "  <style>\n",
              "    .colab-df-container {\n",
              "      display:flex;\n",
              "      gap: 12px;\n",
              "    }\n",
              "\n",
              "    .colab-df-convert {\n",
              "      background-color: #E8F0FE;\n",
              "      border: none;\n",
              "      border-radius: 50%;\n",
              "      cursor: pointer;\n",
              "      display: none;\n",
              "      fill: #1967D2;\n",
              "      height: 32px;\n",
              "      padding: 0 0 0 0;\n",
              "      width: 32px;\n",
              "    }\n",
              "\n",
              "    .colab-df-convert:hover {\n",
              "      background-color: #E2EBFA;\n",
              "      box-shadow: 0px 1px 2px rgba(60, 64, 67, 0.3), 0px 1px 3px 1px rgba(60, 64, 67, 0.15);\n",
              "      fill: #174EA6;\n",
              "    }\n",
              "\n",
              "    .colab-df-buttons div {\n",
              "      margin-bottom: 4px;\n",
              "    }\n",
              "\n",
              "    [theme=dark] .colab-df-convert {\n",
              "      background-color: #3B4455;\n",
              "      fill: #D2E3FC;\n",
              "    }\n",
              "\n",
              "    [theme=dark] .colab-df-convert:hover {\n",
              "      background-color: #434B5C;\n",
              "      box-shadow: 0px 1px 3px 1px rgba(0, 0, 0, 0.15);\n",
              "      filter: drop-shadow(0px 1px 2px rgba(0, 0, 0, 0.3));\n",
              "      fill: #FFFFFF;\n",
              "    }\n",
              "  </style>\n",
              "\n",
              "    <script>\n",
              "      const buttonEl =\n",
              "        document.querySelector('#df-4ef4aba3-26be-4faa-b3c7-47b9fa77deb4 button.colab-df-convert');\n",
              "      buttonEl.style.display =\n",
              "        google.colab.kernel.accessAllowed ? 'block' : 'none';\n",
              "\n",
              "      async function convertToInteractive(key) {\n",
              "        const element = document.querySelector('#df-4ef4aba3-26be-4faa-b3c7-47b9fa77deb4');\n",
              "        const dataTable =\n",
              "          await google.colab.kernel.invokeFunction('convertToInteractive',\n",
              "                                                    [key], {});\n",
              "        if (!dataTable) return;\n",
              "\n",
              "        const docLinkHtml = 'Like what you see? Visit the ' +\n",
              "          '<a target=\"_blank\" href=https://colab.research.google.com/notebooks/data_table.ipynb>data table notebook</a>'\n",
              "          + ' to learn more about interactive tables.';\n",
              "        element.innerHTML = '';\n",
              "        dataTable['output_type'] = 'display_data';\n",
              "        await google.colab.output.renderOutput(dataTable, element);\n",
              "        const docLink = document.createElement('div');\n",
              "        docLink.innerHTML = docLinkHtml;\n",
              "        element.appendChild(docLink);\n",
              "      }\n",
              "    </script>\n",
              "  </div>\n",
              "\n",
              "\n",
              "<div id=\"df-2404d9d8-136b-40f7-8c87-d46b1434874c\">\n",
              "  <button class=\"colab-df-quickchart\" onclick=\"quickchart('df-2404d9d8-136b-40f7-8c87-d46b1434874c')\"\n",
              "            title=\"Suggest charts\"\n",
              "            style=\"display:none;\">\n",
              "\n",
              "<svg xmlns=\"http://www.w3.org/2000/svg\" height=\"24px\"viewBox=\"0 0 24 24\"\n",
              "     width=\"24px\">\n",
              "    <g>\n",
              "        <path d=\"M19 3H5c-1.1 0-2 .9-2 2v14c0 1.1.9 2 2 2h14c1.1 0 2-.9 2-2V5c0-1.1-.9-2-2-2zM9 17H7v-7h2v7zm4 0h-2V7h2v10zm4 0h-2v-4h2v4z\"/>\n",
              "    </g>\n",
              "</svg>\n",
              "  </button>\n",
              "\n",
              "<style>\n",
              "  .colab-df-quickchart {\n",
              "      --bg-color: #E8F0FE;\n",
              "      --fill-color: #1967D2;\n",
              "      --hover-bg-color: #E2EBFA;\n",
              "      --hover-fill-color: #174EA6;\n",
              "      --disabled-fill-color: #AAA;\n",
              "      --disabled-bg-color: #DDD;\n",
              "  }\n",
              "\n",
              "  [theme=dark] .colab-df-quickchart {\n",
              "      --bg-color: #3B4455;\n",
              "      --fill-color: #D2E3FC;\n",
              "      --hover-bg-color: #434B5C;\n",
              "      --hover-fill-color: #FFFFFF;\n",
              "      --disabled-bg-color: #3B4455;\n",
              "      --disabled-fill-color: #666;\n",
              "  }\n",
              "\n",
              "  .colab-df-quickchart {\n",
              "    background-color: var(--bg-color);\n",
              "    border: none;\n",
              "    border-radius: 50%;\n",
              "    cursor: pointer;\n",
              "    display: none;\n",
              "    fill: var(--fill-color);\n",
              "    height: 32px;\n",
              "    padding: 0;\n",
              "    width: 32px;\n",
              "  }\n",
              "\n",
              "  .colab-df-quickchart:hover {\n",
              "    background-color: var(--hover-bg-color);\n",
              "    box-shadow: 0 1px 2px rgba(60, 64, 67, 0.3), 0 1px 3px 1px rgba(60, 64, 67, 0.15);\n",
              "    fill: var(--button-hover-fill-color);\n",
              "  }\n",
              "\n",
              "  .colab-df-quickchart-complete:disabled,\n",
              "  .colab-df-quickchart-complete:disabled:hover {\n",
              "    background-color: var(--disabled-bg-color);\n",
              "    fill: var(--disabled-fill-color);\n",
              "    box-shadow: none;\n",
              "  }\n",
              "\n",
              "  .colab-df-spinner {\n",
              "    border: 2px solid var(--fill-color);\n",
              "    border-color: transparent;\n",
              "    border-bottom-color: var(--fill-color);\n",
              "    animation:\n",
              "      spin 1s steps(1) infinite;\n",
              "  }\n",
              "\n",
              "  @keyframes spin {\n",
              "    0% {\n",
              "      border-color: transparent;\n",
              "      border-bottom-color: var(--fill-color);\n",
              "      border-left-color: var(--fill-color);\n",
              "    }\n",
              "    20% {\n",
              "      border-color: transparent;\n",
              "      border-left-color: var(--fill-color);\n",
              "      border-top-color: var(--fill-color);\n",
              "    }\n",
              "    30% {\n",
              "      border-color: transparent;\n",
              "      border-left-color: var(--fill-color);\n",
              "      border-top-color: var(--fill-color);\n",
              "      border-right-color: var(--fill-color);\n",
              "    }\n",
              "    40% {\n",
              "      border-color: transparent;\n",
              "      border-right-color: var(--fill-color);\n",
              "      border-top-color: var(--fill-color);\n",
              "    }\n",
              "    60% {\n",
              "      border-color: transparent;\n",
              "      border-right-color: var(--fill-color);\n",
              "    }\n",
              "    80% {\n",
              "      border-color: transparent;\n",
              "      border-right-color: var(--fill-color);\n",
              "      border-bottom-color: var(--fill-color);\n",
              "    }\n",
              "    90% {\n",
              "      border-color: transparent;\n",
              "      border-bottom-color: var(--fill-color);\n",
              "    }\n",
              "  }\n",
              "</style>\n",
              "\n",
              "  <script>\n",
              "    async function quickchart(key) {\n",
              "      const quickchartButtonEl =\n",
              "        document.querySelector('#' + key + ' button');\n",
              "      quickchartButtonEl.disabled = true;  // To prevent multiple clicks.\n",
              "      quickchartButtonEl.classList.add('colab-df-spinner');\n",
              "      try {\n",
              "        const charts = await google.colab.kernel.invokeFunction(\n",
              "            'suggestCharts', [key], {});\n",
              "      } catch (error) {\n",
              "        console.error('Error during call to suggestCharts:', error);\n",
              "      }\n",
              "      quickchartButtonEl.classList.remove('colab-df-spinner');\n",
              "      quickchartButtonEl.classList.add('colab-df-quickchart-complete');\n",
              "    }\n",
              "    (() => {\n",
              "      let quickchartButtonEl =\n",
              "        document.querySelector('#df-2404d9d8-136b-40f7-8c87-d46b1434874c button');\n",
              "      quickchartButtonEl.style.display =\n",
              "        google.colab.kernel.accessAllowed ? 'block' : 'none';\n",
              "    })();\n",
              "  </script>\n",
              "</div>\n",
              "\n",
              "    </div>\n",
              "  </div>\n"
            ]
          },
          "metadata": {},
          "execution_count": 10
        }
      ]
    },
    {
      "cell_type": "markdown",
      "source": [
        "Checking null values\n"
      ],
      "metadata": {
        "id": "dZQv1s1ee9Dj"
      }
    },
    {
      "cell_type": "code",
      "source": [
        "data.isnull().sum()"
      ],
      "metadata": {
        "colab": {
          "base_uri": "https://localhost:8080/"
        },
        "id": "fcK-G2pPeolP",
        "outputId": "e1a2cc37-8a28-458a-fcf2-30bbe49ff62f"
      },
      "execution_count": null,
      "outputs": [
        {
          "output_type": "execute_result",
          "data": {
            "text/plain": [
              "quotes       0\n",
              "author       0\n",
              "author_id    0\n",
              "tag          0\n",
              "dtype: int64"
            ]
          },
          "metadata": {},
          "execution_count": 37
        }
      ]
    },
    {
      "cell_type": "markdown",
      "source": [
        "Unique Authors in the dataset"
      ],
      "metadata": {
        "id": "PdZkCuo4fANE"
      }
    },
    {
      "cell_type": "code",
      "source": [
        "data.author.unique()"
      ],
      "metadata": {
        "colab": {
          "base_uri": "https://localhost:8080/"
        },
        "id": "ea-PKphecFy9",
        "outputId": "10c1c3c6-5145-4f91-b8cb-7148b8faf861"
      },
      "execution_count": null,
      "outputs": [
        {
          "output_type": "execute_result",
          "data": {
            "text/plain": [
              "array(['Marilyn Monroe', 'J.K. Rowling', 'Albert Einstein', 'Bob Marley',\n",
              "       'Dr. Seuss', 'Douglas Adams', 'Elie Wiesel', 'Friedrich Nietzsche',\n",
              "       'Mark Twain', 'Allen Saunders', 'Pablo Neruda',\n",
              "       'Ralph Waldo Emerson', 'Mother Teresa', 'Garrison Keillor',\n",
              "       'Jim Henson', 'Charles M. Schulz', 'William Nicholson',\n",
              "       'Jorge Luis Borges', 'George Eliot', 'George R.R. Martin',\n",
              "       'C.S. Lewis', 'Martin Luther King Jr.', 'James Baldwin',\n",
              "       'Jane Austen', 'Eleanor Roosevelt', 'Haruki Murakami',\n",
              "       'Alexandre Dumas fils', 'Stephenie Meyer', 'Ernest Hemingway',\n",
              "       'Helen Keller', 'George Bernard Shaw', 'Charles Bukowski',\n",
              "       'Suzanne Collins', 'J.R.R. Tolkien', 'Alfred Tennyson',\n",
              "       'Terry Pratchett', 'J.D. Salinger', 'George Carlin', 'John Lennon',\n",
              "       'W.C. Fields', 'Ayn Rand', 'Jimi Hendrix', 'J.M. Barrie',\n",
              "       'E.E. Cummings', 'Khaled Hosseini', 'Harper Lee',\n",
              "       \"Madeleine L'Engle\"], dtype=object)"
            ]
          },
          "metadata": {},
          "execution_count": 11
        }
      ]
    },
    {
      "cell_type": "markdown",
      "source": [
        "Number of books written by each author"
      ],
      "metadata": {
        "id": "ibX3DPAcfL_A"
      }
    },
    {
      "cell_type": "code",
      "source": [
        "data.author.value_counts()"
      ],
      "metadata": {
        "colab": {
          "base_uri": "https://localhost:8080/"
        },
        "id": "XqaxWb66cPb_",
        "outputId": "baae65bf-d962-479a-8fc6-64c1b488d1d7"
      },
      "execution_count": null,
      "outputs": [
        {
          "output_type": "execute_result",
          "data": {
            "text/plain": [
              "J.K. Rowling              8\n",
              "Albert Einstein           7\n",
              "Marilyn Monroe            6\n",
              "Mark Twain                6\n",
              "Dr. Seuss                 6\n",
              "C.S. Lewis                5\n",
              "Jane Austen               4\n",
              "Bob Marley                3\n",
              "Ernest Hemingway          2\n",
              "George R.R. Martin        2\n",
              "Charles Bukowski          2\n",
              "Suzanne Collins           2\n",
              "Ralph Waldo Emerson       2\n",
              "Mother Teresa             2\n",
              "J.R.R. Tolkien            1\n",
              "Alfred Tennyson           1\n",
              "Terry Pratchett           1\n",
              "J.D. Salinger             1\n",
              "George Carlin             1\n",
              "Friedrich Nietzsche       1\n",
              "George Bernard Shaw       1\n",
              "W.C. Fields               1\n",
              "Ayn Rand                  1\n",
              "Jimi Hendrix              1\n",
              "J.M. Barrie               1\n",
              "E.E. Cummings             1\n",
              "Khaled Hosseini           1\n",
              "Harper Lee                1\n",
              "John Lennon               1\n",
              "Stephenie Meyer           1\n",
              "Helen Keller              1\n",
              "Jorge Luis Borges         1\n",
              "Allen Saunders            1\n",
              "Pablo Neruda              1\n",
              "Garrison Keillor          1\n",
              "Jim Henson                1\n",
              "Charles M. Schulz         1\n",
              "William Nicholson         1\n",
              "George Eliot              1\n",
              "Elie Wiesel               1\n",
              "Douglas Adams             1\n",
              "Martin Luther King Jr.    1\n",
              "James Baldwin             1\n",
              "Eleanor Roosevelt         1\n",
              "Haruki Murakami           1\n",
              "Alexandre Dumas fils      1\n",
              "Madeleine L'Engle         1\n",
              "Name: author, dtype: int64"
            ]
          },
          "metadata": {},
          "execution_count": 38
        }
      ]
    },
    {
      "cell_type": "markdown",
      "source": [
        "\n",
        "5 Authors Who Have Written the Most Books"
      ],
      "metadata": {
        "id": "FPdcotDsfWk8"
      }
    },
    {
      "cell_type": "code",
      "source": [
        "data.tag.unique()"
      ],
      "metadata": {
        "colab": {
          "base_uri": "https://localhost:8080/"
        },
        "id": "ZD0ZY5eScUDn",
        "outputId": "53158d50-fbdd-48a4-9dc0-b6b647d28f9b"
      },
      "execution_count": null,
      "outputs": [
        {
          "output_type": "execute_result",
          "data": {
            "text/plain": [
              "array(['friends,heartbreak,inspirational,life,love,sisters',\n",
              "       'courage,friends', 'simplicity,understand', 'love', 'fantasy',\n",
              "       'life,navigation',\n",
              "       'activism,apathy,hate,indifference,inspirational,love,opposite,philosophy',\n",
              "       'friendship,lack-of-friendship,lack-of-love,love,marriage,unhappy-marriage',\n",
              "       'books,contentment,friends,friendship,life',\n",
              "       'fate,life,misattributed-john-lennon,planning,plans',\n",
              "       'love,poetry', 'happiness', 'attributed-no-source',\n",
              "       'humor,religion', 'humor', 'comedy,life,yourself',\n",
              "       'children,fairy-tales', '', 'imagination', 'music',\n",
              "       'learning,reading,seuss', 'dumbledore', 'friendship',\n",
              "       'misattributed-to-mother-teresa,paraphrased',\n",
              "       'death,inspirational', 'chocolate,food,humor',\n",
              "       'misattributed-to-c-s-lewis,reading',\n",
              "       'knowledge,learning,understanding,wisdom', 'books,library',\n",
              "       'inspirational', 'read,readers,reading,reading-books',\n",
              "       'books,inspirational,reading,tea', 'girls,love', 'life,simile',\n",
              "       'hope,inspirational', 'friendship,love',\n",
              "       'attributed,fear,inspiration', 'books,thought',\n",
              "       'misattributed-to-einstein', 'drug,romance,simile',\n",
              "       'books,friends,novelist-quotes', 'inspirational,life,yourself',\n",
              "       'alcohol', 'the-hunger-games',\n",
              "       'bilbo,journey,lost,quest,travel,wander', 'live-death-love',\n",
              "       'good,writing', 'life,regrets', 'education', 'troubles',\n",
              "       'humor,open-mind,thinking', 'humor,philosophy',\n",
              "       'authors,books,literature,reading,writing',\n",
              "       'humor,insanity,lies,lying,self-indulgence,truth',\n",
              "       'beatles,connection,dreamers,dreaming,dreams,hope,inspirational,peace',\n",
              "       'humor,sinister', 'books,classic,reading', 'mistakes',\n",
              "       'humor,love,romantic,women', 'integrity', 'books,library,reading',\n",
              "       'elizabeth-bennet,jane-austen', 'age,fairytales,growing-up', 'god',\n",
              "       'death,life', 'misattributed-mark-twain,truth',\n",
              "       'christianity,faith,religion,sun', 'truth', 'adventure,love',\n",
              "       'courage', 'life', 'better-life-empathy',\n",
              "       'books,children,difficult,grown-ups,write,writers,writing',\n",
              "       'books,mind'], dtype=object)"
            ]
          },
          "metadata": {},
          "execution_count": 13
        }
      ]
    },
    {
      "cell_type": "markdown",
      "source": [
        "Tags in the dataset"
      ],
      "metadata": {
        "id": "8z5PZEh6f14r"
      }
    },
    {
      "cell_type": "code",
      "source": [
        "data.tag.unique()"
      ],
      "metadata": {
        "colab": {
          "base_uri": "https://localhost:8080/"
        },
        "id": "1lXYeojifzBF",
        "outputId": "bdb85197-77a1-4650-ca7d-f1887fcc3eaa"
      },
      "execution_count": null,
      "outputs": [
        {
          "output_type": "execute_result",
          "data": {
            "text/plain": [
              "array(['friends,heartbreak,inspirational,life,love,sisters',\n",
              "       'courage,friends', 'simplicity,understand', 'love', 'fantasy',\n",
              "       'life,navigation',\n",
              "       'activism,apathy,hate,indifference,inspirational,love,opposite,philosophy',\n",
              "       'friendship,lack-of-friendship,lack-of-love,love,marriage,unhappy-marriage',\n",
              "       'books,contentment,friends,friendship,life',\n",
              "       'fate,life,misattributed-john-lennon,planning,plans',\n",
              "       'love,poetry', 'happiness', 'attributed-no-source',\n",
              "       'humor,religion', 'humor', 'comedy,life,yourself',\n",
              "       'children,fairy-tales', '', 'imagination', 'music',\n",
              "       'learning,reading,seuss', 'dumbledore', 'friendship',\n",
              "       'misattributed-to-mother-teresa,paraphrased',\n",
              "       'death,inspirational', 'chocolate,food,humor',\n",
              "       'misattributed-to-c-s-lewis,reading',\n",
              "       'knowledge,learning,understanding,wisdom', 'books,library',\n",
              "       'inspirational', 'read,readers,reading,reading-books',\n",
              "       'books,inspirational,reading,tea', 'girls,love', 'life,simile',\n",
              "       'hope,inspirational', 'friendship,love',\n",
              "       'attributed,fear,inspiration', 'books,thought',\n",
              "       'misattributed-to-einstein', 'drug,romance,simile',\n",
              "       'books,friends,novelist-quotes', 'inspirational,life,yourself',\n",
              "       'alcohol', 'the-hunger-games',\n",
              "       'bilbo,journey,lost,quest,travel,wander', 'live-death-love',\n",
              "       'good,writing', 'life,regrets', 'education', 'troubles',\n",
              "       'humor,open-mind,thinking', 'humor,philosophy',\n",
              "       'authors,books,literature,reading,writing',\n",
              "       'humor,insanity,lies,lying,self-indulgence,truth',\n",
              "       'beatles,connection,dreamers,dreaming,dreams,hope,inspirational,peace',\n",
              "       'humor,sinister', 'books,classic,reading', 'mistakes',\n",
              "       'humor,love,romantic,women', 'integrity', 'books,library,reading',\n",
              "       'elizabeth-bennet,jane-austen', 'age,fairytales,growing-up', 'god',\n",
              "       'death,life', 'misattributed-mark-twain,truth',\n",
              "       'christianity,faith,religion,sun', 'truth', 'adventure,love',\n",
              "       'courage', 'life', 'better-life-empathy',\n",
              "       'books,children,difficult,grown-ups,write,writers,writing',\n",
              "       'books,mind'], dtype=object)"
            ]
          },
          "metadata": {},
          "execution_count": 39
        }
      ]
    },
    {
      "cell_type": "markdown",
      "source": [
        "\n",
        "Most Frequent Tag"
      ],
      "metadata": {
        "id": "E7BBxEC4f4jM"
      }
    },
    {
      "cell_type": "code",
      "source": [
        "data.tag.value_counts().head(1)"
      ],
      "metadata": {
        "colab": {
          "base_uri": "https://localhost:8080/"
        },
        "id": "RLKkipGjdf4f",
        "outputId": "7886f004-b9f9-454f-ebdf-4937ec7b11bd"
      },
      "execution_count": null,
      "outputs": [
        {
          "output_type": "execute_result",
          "data": {
            "text/plain": [
              "love    4\n",
              "Name: tag, dtype: int64"
            ]
          },
          "metadata": {},
          "execution_count": 33
        }
      ]
    },
    {
      "cell_type": "code",
      "source": [],
      "metadata": {
        "id": "bHo1LjLGeUwN"
      },
      "execution_count": null,
      "outputs": []
    }
  ]
}